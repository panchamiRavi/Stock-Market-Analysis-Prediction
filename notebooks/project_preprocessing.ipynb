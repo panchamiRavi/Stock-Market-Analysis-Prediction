{
 "cells": [
  {
   "cell_type": "code",
   "execution_count": 5,
   "id": "193cfac6",
   "metadata": {},
   "outputs": [],
   "source": [
    "import pandas as pd\n",
    "import numpy as np\n",
    "\n",
    "#/tmp/ipython-input-23-647098593.py:1: DtypeWarning: Columns (1,2) have mixed types. Specify dtype option on import or set low_memory=False.\n",
    "# df = pd.read_csv(\"nse_2017_2020_filtered.csv\")"
   ]
  },
  {
   "cell_type": "code",
   "execution_count": 6,
   "id": "9123378b",
   "metadata": {},
   "outputs": [],
   "source": [
    "df = pd.read_csv(\"nse_2017_2020_filtered.csv\")"
   ]
  },
  {
   "cell_type": "code",
   "execution_count": 7,
   "id": "659eefd9",
   "metadata": {},
   "outputs": [
    {
     "name": "stdout",
     "output_type": "stream",
     "text": [
      "🧾 Columns: Index(['Date', 'Open', 'High', 'Low', 'Close', 'Volume', 'Turnover', 'Symbol',\n",
      "       'Series', 'Prev Close', 'Last', 'VWAP', 'Trades', 'Deliverable Volume',\n",
      "       '%Deliverble'],\n",
      "      dtype='object')\n",
      "📄 First 5 rows:\n",
      "         Date   Open   High    Low  Close  Volume  Turnover Symbol Series  \\\n",
      "0  2017-01-02  15.47  16.38  14.64  15.83     NaN       NaN    NaN    NaN   \n",
      "1  2017-01-03  15.83  16.42  14.90  15.96     NaN       NaN    NaN    NaN   \n",
      "2  2017-01-04  15.96  16.10  14.90  15.89     NaN       NaN    NaN    NaN   \n",
      "3  2017-01-05  15.89  15.89  14.45  15.05     NaN       NaN    NaN    NaN   \n",
      "4  2017-01-06  15.05  15.09  13.92  14.91     NaN       NaN    NaN    NaN   \n",
      "\n",
      "   Prev Close  Last  VWAP  Trades  Deliverable Volume  %Deliverble  \n",
      "0         NaN   NaN   NaN     NaN                 NaN          NaN  \n",
      "1         NaN   NaN   NaN     NaN                 NaN          NaN  \n",
      "2         NaN   NaN   NaN     NaN                 NaN          NaN  \n",
      "3         NaN   NaN   NaN     NaN                 NaN          NaN  \n",
      "4         NaN   NaN   NaN     NaN                 NaN          NaN  \n",
      "\n",
      "📊 Dataset Info:\n",
      "<class 'pandas.core.frame.DataFrame'>\n",
      "RangeIndex: 1403338 entries, 0 to 1403337\n",
      "Data columns (total 15 columns):\n",
      " #   Column              Non-Null Count    Dtype  \n",
      "---  ------              --------------    -----  \n",
      " 0   Date                1403338 non-null  object \n",
      " 1   Open                1401747 non-null  float64\n",
      " 2   High                1401747 non-null  float64\n",
      " 3   Low                 1401747 non-null  float64\n",
      " 4   Close               1403338 non-null  float64\n",
      " 5   Volume              1387305 non-null  float64\n",
      " 6   Turnover            1387305 non-null  float64\n",
      " 7   Symbol              1352218 non-null  object \n",
      " 8   Series              1352218 non-null  object \n",
      " 9   Prev Close          1352218 non-null  float64\n",
      " 10  Last                1352218 non-null  float64\n",
      " 11  VWAP                1352218 non-null  float64\n",
      " 12  Trades              1352218 non-null  float64\n",
      " 13  Deliverable Volume  1352203 non-null  float64\n",
      " 14  %Deliverble         1352203 non-null  float64\n",
      "dtypes: float64(12), object(3)\n",
      "memory usage: 160.6+ MB\n",
      "None\n",
      "\n",
      "📈 Summary Statistics:\n",
      "               Open          High           Low         Close        Volume  \\\n",
      "count  1.401747e+06  1.401747e+06  1.401747e+06  1.403338e+06  1.387305e+06   \n",
      "mean   7.985780e+02  8.091578e+02  7.870010e+02  8.072817e+02  8.326361e+06   \n",
      "std    2.965470e+03  2.995235e+03  2.931352e+03  2.976600e+03  7.754026e+07   \n",
      "min    5.000000e-02  1.000000e-01  5.000000e-02  5.000000e-02  1.000000e+00   \n",
      "25%    4.340000e+01  4.455000e+01  4.210000e+01  4.325000e+01  1.217300e+04   \n",
      "50%    1.550000e+02  1.587500e+02  1.514000e+02  1.549500e+02  6.489000e+04   \n",
      "75%    4.893000e+02  4.988000e+02  4.799500e+02  4.900500e+02  4.442760e+05   \n",
      "max    8.116000e+04  8.142595e+04  7.972000e+04  8.086045e+04  5.404237e+09   \n",
      "\n",
      "           Turnover    Prev Close          Last          VWAP        Trades  \\\n",
      "count  1.387305e+06  1.352218e+06  1.352218e+06  1.352218e+06  1.352218e+06   \n",
      "mean   2.557536e+13  5.574742e+02  5.575592e+02  5.583641e+02  8.848279e+03   \n",
      "std    1.335219e+14  2.391357e+03  2.391882e+03  2.393958e+03  2.915041e+04   \n",
      "min    4.000000e+04  5.000000e-02  5.000000e-02  5.000000e-02  1.000000e+00   \n",
      "25%    1.021148e+11  4.120000e+01  4.120000e+01  4.134000e+01  2.350000e+02   \n",
      "50%    7.746867e+11  1.429000e+02  1.429500e+02  1.432600e+02  1.044000e+03   \n",
      "75%    5.854284e+12  4.311500e+02  4.310000e+02  4.322000e+02  5.049000e+03   \n",
      "max    3.564334e+16  8.086045e+04  8.059900e+04  8.042680e+04  1.788274e+06   \n",
      "\n",
      "       Deliverable Volume   %Deliverble  \n",
      "count        1.352203e+06  1.352203e+06  \n",
      "mean         4.192549e+05  5.798814e-01  \n",
      "std          3.130169e+06  2.117478e-01  \n",
      "min          0.000000e+00  0.000000e+00  \n",
      "25%          7.297000e+03  4.364000e-01  \n",
      "50%          3.348600e+04  5.883000e-01  \n",
      "75%          1.711920e+05  7.278000e-01  \n",
      "max          7.870864e+08  1.000000e+00  \n",
      "\n",
      "📌 Column Names:\n",
      "['Date', 'Open', 'High', 'Low', 'Close', 'Volume', 'Turnover', 'Symbol', 'Series', 'Prev Close', 'Last', 'VWAP', 'Trades', 'Deliverable Volume', '%Deliverble']\n",
      "\n",
      "❓ Missing Values:\n",
      "Date                      0\n",
      "Open                   1591\n",
      "High                   1591\n",
      "Low                    1591\n",
      "Close                     0\n",
      "Volume                16033\n",
      "Turnover              16033\n",
      "Symbol                51120\n",
      "Series                51120\n",
      "Prev Close            51120\n",
      "Last                  51120\n",
      "VWAP                  51120\n",
      "Trades                51120\n",
      "Deliverable Volume    51135\n",
      "%Deliverble           51135\n",
      "dtype: int64\n"
     ]
    }
   ],
   "source": [
    "print(\"🧾 Columns:\", df.columns)\n",
    "df.shape\n",
    "print(\"📄 First 5 rows:\")\n",
    "print(df.head())\n",
    "\n",
    "# Check basic info\n",
    "print(\"\\n📊 Dataset Info:\")\n",
    "print(df.info())\n",
    "\n",
    "# Summary statistics\n",
    "print(\"\\n📈 Summary Statistics:\")\n",
    "print(df.describe())\n",
    "\n",
    "# Check column names\n",
    "print(\"\\n📌 Column Names:\")\n",
    "print(df.columns.tolist())\n",
    "\n",
    "# Check for missing values\n",
    "print(\"\\n❓ Missing Values:\")\n",
    "print(df.isnull().sum())\n"
   ]
  },
  {
   "cell_type": "code",
   "execution_count": 10,
   "id": "838e00ae",
   "metadata": {},
   "outputs": [],
   "source": [
    "df = df.dropna(subset=['Symbol', 'Date'])"
   ]
  },
  {
   "cell_type": "code",
   "execution_count": 11,
   "id": "8ff2f971",
   "metadata": {},
   "outputs": [],
   "source": [
    "df.columns = df.columns.str.strip().str.lower().str.replace(' ', '_')"
   ]
  },
  {
   "cell_type": "code",
   "execution_count": 12,
   "id": "220b4587",
   "metadata": {},
   "outputs": [],
   "source": [
    "df['date'] = pd.to_datetime(df['date'], errors='coerce')\n",
    "df = df.dropna(subset=['date'])"
   ]
  },
  {
   "cell_type": "code",
   "execution_count": 13,
   "id": "378d26c4",
   "metadata": {},
   "outputs": [],
   "source": [
    "df = df.sort_values('date')"
   ]
  },
  {
   "cell_type": "code",
   "execution_count": 14,
   "id": "e9cdcd78",
   "metadata": {},
   "outputs": [],
   "source": [
    "df = df.drop_duplicates()"
   ]
  },
  {
   "cell_type": "code",
   "execution_count": 15,
   "id": "3495d5cd",
   "metadata": {},
   "outputs": [
    {
     "name": "stderr",
     "output_type": "stream",
     "text": [
      "C:\\Users\\user\\AppData\\Local\\Temp\\ipykernel_18900\\508186644.py:5: FutureWarning: Series.fillna with 'method' is deprecated and will raise in a future version. Use obj.ffill() or obj.bfill() instead.\n",
      "  df[col] = df[col].fillna(method='ffill')\n",
      "C:\\Users\\user\\AppData\\Local\\Temp\\ipykernel_18900\\508186644.py:6: FutureWarning: Series.fillna with 'method' is deprecated and will raise in a future version. Use obj.ffill() or obj.bfill() instead.\n",
      "  df[col] = df[col].fillna(method='bfill')\n"
     ]
    }
   ],
   "source": [
    "numeric_cols = ['open', 'high', 'low', 'close', 'volume', 'deliverable_volume']\n",
    "for col in numeric_cols:\n",
    "    if col in df.columns:\n",
    "        df[col] = pd.to_numeric(df[col], errors='coerce')\n",
    "        df[col] = df[col].fillna(method='ffill')\n",
    "        df[col] = df[col].fillna(method='bfill')"
   ]
  },
  {
   "cell_type": "code",
   "execution_count": 16,
   "id": "211f0800",
   "metadata": {},
   "outputs": [],
   "source": [
    "if 'close' in df.columns and 'open' in df.columns:\n",
    "    df['daily_return'] = (df['close'] - df['open']) / df['open']"
   ]
  },
  {
   "cell_type": "code",
   "execution_count": 17,
   "id": "7c2f0913",
   "metadata": {},
   "outputs": [
    {
     "name": "stdout",
     "output_type": "stream",
     "text": [
      "✅ Preprocessing complete. Saved as: nse_2017_2020_preprocessed.csv\n",
      "              date    open    high     low   close    volume      turnover  \\\n",
      "51120   2017-01-02   33.40   34.30   33.00   33.85   77859.0  2.617543e+11   \n",
      "486274  2017-01-02  132.35  132.35  128.85  131.25   90333.0  1.178883e+12   \n",
      "487265  2017-01-02  248.90  253.50  242.10  252.40    9253.0  2.285738e+11   \n",
      "488256  2017-01-02  108.20  109.40  103.55  108.20  797197.0  8.550356e+12   \n",
      "1381750 2017-01-02  899.00  904.60  881.50  894.05    8460.0  7.538079e+11   \n",
      "\n",
      "            symbol series  prev_close    last    vwap  trades  \\\n",
      "51120    20MICRONS     EQ       32.95   34.25   33.62   192.0   \n",
      "486274        GPPL     EQ      131.50  131.20  130.50  2803.0   \n",
      "487265    GPTINFRA     EQ      242.05  253.50  247.03   100.0   \n",
      "488256    GRANULES     EQ      108.05  108.65  107.26  5285.0   \n",
      "1381750  WHIRLPOOL     EQ      889.05  895.00  891.03  1008.0   \n",
      "\n",
      "         deliverable_volume  %deliverble  daily_return  \n",
      "51120               72880.0       0.9361      0.013473  \n",
      "486274              43764.0       0.4845     -0.008311  \n",
      "487265               3776.0       0.4081      0.014062  \n",
      "488256             153264.0       0.1923      0.000000  \n",
      "1381750              4176.0       0.4936     -0.005506  \n"
     ]
    }
   ],
   "source": [
    "df.to_csv(\"nse_2017_2020_preprocessed.csv\", index=False)\n",
    "print(\"✅ Preprocessing complete. Saved as: nse_2017_2020_preprocessed.csv\")\n",
    "\n",
    "print(df.head())"
   ]
  },
  {
   "cell_type": "code",
   "execution_count": 18,
   "id": "bc91d9b0",
   "metadata": {},
   "outputs": [
    {
     "name": "stdout",
     "output_type": "stream",
     "text": [
      "📄 First 5 rows:\n",
      "              date    open    high     low   close    volume      turnover  \\\n",
      "51120   2017-01-02   33.40   34.30   33.00   33.85   77859.0  2.617543e+11   \n",
      "486274  2017-01-02  132.35  132.35  128.85  131.25   90333.0  1.178883e+12   \n",
      "487265  2017-01-02  248.90  253.50  242.10  252.40    9253.0  2.285738e+11   \n",
      "488256  2017-01-02  108.20  109.40  103.55  108.20  797197.0  8.550356e+12   \n",
      "1381750 2017-01-02  899.00  904.60  881.50  894.05    8460.0  7.538079e+11   \n",
      "\n",
      "            symbol series  prev_close    last    vwap  trades  \\\n",
      "51120    20MICRONS     EQ       32.95   34.25   33.62   192.0   \n",
      "486274        GPPL     EQ      131.50  131.20  130.50  2803.0   \n",
      "487265    GPTINFRA     EQ      242.05  253.50  247.03   100.0   \n",
      "488256    GRANULES     EQ      108.05  108.65  107.26  5285.0   \n",
      "1381750  WHIRLPOOL     EQ      889.05  895.00  891.03  1008.0   \n",
      "\n",
      "         deliverable_volume  %deliverble  daily_return  \n",
      "51120               72880.0       0.9361      0.013473  \n",
      "486274              43764.0       0.4845     -0.008311  \n",
      "487265               3776.0       0.4081      0.014062  \n",
      "488256             153264.0       0.1923      0.000000  \n",
      "1381750              4176.0       0.4936     -0.005506  \n",
      "\n",
      "📊 Dataset Info:\n",
      "<class 'pandas.core.frame.DataFrame'>\n",
      "Index: 1349831 entries, 51120 to 1403337\n",
      "Data columns (total 16 columns):\n",
      " #   Column              Non-Null Count    Dtype         \n",
      "---  ------              --------------    -----         \n",
      " 0   date                1349831 non-null  datetime64[ns]\n",
      " 1   open                1349831 non-null  float64       \n",
      " 2   high                1349831 non-null  float64       \n",
      " 3   low                 1349831 non-null  float64       \n",
      " 4   close               1349831 non-null  float64       \n",
      " 5   volume              1349831 non-null  float64       \n",
      " 6   turnover            1349831 non-null  float64       \n",
      " 7   symbol              1349831 non-null  object        \n",
      " 8   series              1349831 non-null  object        \n",
      " 9   prev_close          1349831 non-null  float64       \n",
      " 10  last                1349831 non-null  float64       \n",
      " 11  vwap                1349831 non-null  float64       \n",
      " 12  trades              1349831 non-null  float64       \n",
      " 13  deliverable_volume  1349831 non-null  float64       \n",
      " 14  %deliverble         1349816 non-null  float64       \n",
      " 15  daily_return        1349831 non-null  float64       \n",
      "dtypes: datetime64[ns](1), float64(13), object(2)\n",
      "memory usage: 175.1+ MB\n",
      "None\n",
      "\n",
      "📈 Summary Statistics:\n",
      "                                date          open          high  \\\n",
      "count                        1349831  1.349831e+06  1.349831e+06   \n",
      "mean   2019-01-14 04:39:35.091992064  5.594824e+02  5.688089e+02   \n",
      "min              2017-01-02 00:00:00  5.000000e-02  1.000000e-01   \n",
      "25%              2018-01-16 00:00:00  4.150000e+01  4.260000e+01   \n",
      "50%              2019-01-18 00:00:00  1.437000e+02  1.469500e+02   \n",
      "75%              2020-01-16 00:00:00  4.330500e+02  4.420500e+02   \n",
      "max              2020-12-31 00:00:00  8.116000e+04  8.142595e+04   \n",
      "std                              NaN  2.397711e+03  2.427963e+03   \n",
      "\n",
      "                low         close        volume      turnover    prev_close  \\\n",
      "count  1.349831e+06  1.349831e+06  1.349831e+06  1.349831e+06  1.349831e+06   \n",
      "mean   5.496729e+02  5.584411e+02  1.274090e+06  2.627917e+13  5.582616e+02   \n",
      "min    5.000000e-02  5.000000e-02  1.000000e+00  4.000000e+04  5.000000e-02   \n",
      "25%    4.020000e+01  4.125000e+01  1.161400e+04  1.170684e+11  4.125000e+01   \n",
      "50%    1.401000e+02  1.430500e+02  5.964100e+04  8.496844e+11  1.430500e+02   \n",
      "75%    4.241000e+02  4.322000e+02  3.745445e+05  6.260154e+12  4.321500e+02   \n",
      "max    7.972000e+04  8.086045e+04  2.399245e+09  3.564334e+16  8.086045e+04   \n",
      "std    2.364790e+03  2.394417e+03  1.140341e+07  1.352947e+14  2.393394e+03   \n",
      "\n",
      "               last          vwap        trades  deliverable_volume  \\\n",
      "count  1.349831e+06  1.349831e+06  1.349831e+06        1.349831e+06   \n",
      "mean   5.583467e+02  5.591525e+02  8.860459e+03        4.198263e+05   \n",
      "min    5.000000e-02  5.000000e-02  1.000000e+00        0.000000e+00   \n",
      "25%    4.125000e+01  4.138000e+01  2.360000e+02        7.301000e+03   \n",
      "50%    1.430000e+02  1.434200e+02  1.045000e+03        3.349200e+04   \n",
      "75%    4.320000e+02  4.332050e+02  5.057000e+03        1.713590e+05   \n",
      "max    8.059900e+04  8.042680e+04  1.788274e+06        7.870864e+08   \n",
      "std    2.393919e+03  2.395997e+03  2.917444e+04        3.132881e+06   \n",
      "\n",
      "        %deliverble  daily_return  \n",
      "count  1.349816e+06  1.349831e+06  \n",
      "mean   5.798380e-01 -3.300278e-03  \n",
      "min    0.000000e+00 -6.759080e-01  \n",
      "25%    4.363000e-01 -1.909466e-02  \n",
      "50%    5.883000e-01 -3.887399e-03  \n",
      "75%    7.278000e-01  9.852217e-03  \n",
      "max    1.000000e+00  1.098497e+00  \n",
      "std    2.117880e-01  3.329935e-02  \n",
      "\n",
      "📌 Column Names:\n",
      "['date', 'open', 'high', 'low', 'close', 'volume', 'turnover', 'symbol', 'series', 'prev_close', 'last', 'vwap', 'trades', 'deliverable_volume', '%deliverble', 'daily_return']\n",
      "\n",
      "❓ Missing Values:\n",
      "date                   0\n",
      "open                   0\n",
      "high                   0\n",
      "low                    0\n",
      "close                  0\n",
      "volume                 0\n",
      "turnover               0\n",
      "symbol                 0\n",
      "series                 0\n",
      "prev_close             0\n",
      "last                   0\n",
      "vwap                   0\n",
      "trades                 0\n",
      "deliverable_volume     0\n",
      "%deliverble           15\n",
      "daily_return           0\n",
      "dtype: int64\n"
     ]
    }
   ],
   "source": [
    "print(\"📄 First 5 rows:\")\n",
    "print(df.head())\n",
    "\n",
    "# Check basic info\n",
    "print(\"\\n📊 Dataset Info:\")\n",
    "print(df.info())\n",
    "\n",
    "# Summary statistics\n",
    "print(\"\\n📈 Summary Statistics:\")\n",
    "print(df.describe())\n",
    "\n",
    "# Check column names\n",
    "print(\"\\n📌 Column Names:\")\n",
    "print(df.columns.tolist())\n",
    "\n",
    "# Check for missing values\n",
    "print(\"\\n❓ Missing Values:\")\n",
    "print(df.isnull().sum())"
   ]
  },
  {
   "cell_type": "code",
   "execution_count": 19,
   "id": "11bdb2dd",
   "metadata": {},
   "outputs": [
    {
     "data": {
      "text/plain": [
       "(1349831, 16)"
      ]
     },
     "execution_count": 19,
     "metadata": {},
     "output_type": "execute_result"
    }
   ],
   "source": [
    "df.shape"
   ]
  },
  {
   "cell_type": "code",
   "execution_count": 20,
   "id": "a98d373f",
   "metadata": {},
   "outputs": [
    {
     "name": "stdout",
     "output_type": "stream",
     "text": [
      "Rows removed due to missing values: 15\n"
     ]
    }
   ],
   "source": [
    "# Load your dataset\n",
    "df = pd.read_csv(\"nse_2017_2020_preprocessed.csv\")\n",
    "\n",
    "# Drop rows with any missing values\n",
    "df_cleaned = df.dropna()\n",
    "\n",
    "# Confirm how many rows were removed\n",
    "rows_removed = len(df) - len(df_cleaned)\n",
    "print(f\"Rows removed due to missing values: {rows_removed}\")\n",
    "\n",
    "# Optional: Save the cleaned dataset\n",
    "df_cleaned.to_csv(\"nse_cleaned.csv\", index=False)"
   ]
  }
 ],
 "metadata": {
  "kernelspec": {
   "display_name": "Python 3",
   "language": "python",
   "name": "python3"
  },
  "language_info": {
   "codemirror_mode": {
    "name": "ipython",
    "version": 3
   },
   "file_extension": ".py",
   "mimetype": "text/x-python",
   "name": "python",
   "nbconvert_exporter": "python",
   "pygments_lexer": "ipython3",
   "version": "3.13.2"
  }
 },
 "nbformat": 4,
 "nbformat_minor": 5
}
